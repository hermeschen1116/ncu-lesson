{
 "cells": [
  {
   "cell_type": "code",
   "execution_count": 12,
   "id": "670fb6aa-5144-4b95-8220-196731aa07bd",
   "metadata": {},
   "outputs": [
    {
     "name": "stdout",
     "output_type": "stream",
     "text": [
      "\n",
      "Quantum State (Total execution time: 1000)\n",
      "|100〉: 100.00%\n"
     ]
    },
    {
     "data": {
      "image/png": "[encoded data removed]",
      "text/plain": [
       "<Figure size 504x360 with 1 Axes>"
      ]
     },
     "execution_count": 12,
     "metadata": {},
     "output_type": "execute_result"
    }
   ],
   "source": [
    "from qiskit import QuantumRegister, ClassicalRegister, QuantumCircuit, transpile, execute\n",
    "from qiskit.providers.aer import AerSimulator\n",
    "from qiskit.visualization import plot_histogram\n",
    "\n",
    "def showQState(statistic) :\n",
    "    all_state = sorted(statistic.keys())\n",
    "    total_count = sum(statistic.values())\n",
    "    print(\"\\nQuantum State (Total execution time: {})\".format(total_count))\n",
    "    for i in all_state :\n",
    "        print(\"|{}〉: {:.2f}%\".format(i, statistic[i]/total_count*100))\n",
    "\n",
    "# create a quantum circuit\n",
    "qRegisterX = QuantumRegister(3, 'x')\n",
    "qRegisterY = QuantumRegister(1, 'y')\n",
    "cRegister = ClassicalRegister(3, 'c')\n",
    "qCircuit = QuantumCircuit(qRegisterX, qRegisterY, cRegister)\n",
    "\n",
    "# do something to the quantum bits\n",
    "qCircuit.h(qRegisterX)\n",
    "qCircuit.x(qRegisterY)\n",
    "qCircuit.h(qRegisterY)\n",
    "qCircuit.barrier()\n",
    "# oracle start\n",
    "qCircuit.swap(qRegisterY, qRegisterX[1])\n",
    "qCircuit.x(qRegisterX[2]).c_if(cRegister, 1)\n",
    "qCircuit.x(qRegisterX[2]).c_if(cRegister, 2)\n",
    "qCircuit.swap(qRegisterY, qRegisterX[1])\n",
    "qCircuit.cx(qRegisterX[2], qRegisterY)\n",
    "# oracle end\n",
    "qCircuit.barrier()\n",
    "qCircuit.h(qRegisterX)\n",
    "qCircuit.h(qRegisterY)\n",
    "\n",
    "# show the quantum circuit\n",
    "qCircuit.measure(qRegisterX, cRegister)\n",
    "#qCircuit.draw('mpl')\n",
    "\n",
    "# run in Simulator\n",
    "qSimulator = AerSimulator()\n",
    "qCode = transpile(qCircuit, qSimulator)\n",
    "execution = execute(qCode, backend=qSimulator, shots=1000)\n",
    "\n",
    "# show the result\n",
    "result = execution.result()\n",
    "statistic = result.get_counts(qCircuit)\n",
    "showQState(statistic)\n",
    "plot_histogram(statistic)"
   ]
  },
  {
   "cell_type": "code",
   "execution_count": null,
   "id": "2023722c-6178-436c-82c7-5d5c889a1d74",
   "metadata": {},
   "outputs": [],
   "source": []
  }
 ],
 "metadata": {
  "kernelspec": {
   "display_name": "Qiskit v0.35.0 (ipykernel)",
   "language": "python",
   "name": "python3"
  },
  "language_info": {
   "codemirror_mode": {
    "name": "ipython",
    "version": 3
   },
   "file_extension": ".py",
   "mimetype": "text/x-python",
   "name": "python",
   "nbconvert_exporter": "python",
   "pygments_lexer": "ipython3",
   "version": "3.8.13"
  },
  "widgets": {
   "application/vnd.jupyter.widget-state+json": {
    "state": {},
    "version_major": 2,
    "version_minor": 0
   }
  }
 },
 "nbformat": 4,
 "nbformat_minor": 5
}
