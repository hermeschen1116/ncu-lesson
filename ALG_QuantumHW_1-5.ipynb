{
 "cells": [
  {
   "cell_type": "code",
   "execution_count": null,
   "id": "4cb1e129-4ed3-4990-a316-f9e560dcf6d8",
   "metadata": {},
   "outputs": [],
   "source": [
    "from qiskit import IBMQ, QuantumCircuit, transpile, execute\n",
    "from qiskit.providers.aer import AerSimulator\n",
    "from qiskit.tools.monitor import job_monitor\n",
    "\n",
    "def loginQComputer(api_token) :\n",
    "    IBMQ.save_account(api_token)\n",
    "    IBMQ.load_account()\n",
    "    \n",
    "def getQComputerService() :\n",
    "    provider = IBMQ.get_provider('ibm-q')\n",
    "    return provider.get_backend('ibmq_manila')\n",
    "\n",
    "def showQState(statistic) :\n",
    "    all_state = sorted(statistic.keys())\n",
    "    total_count = sum(statistic.values())\n",
    "    print(\"\\nQuantum State (Total execution time: {})\".format(total_count))\n",
    "    for i in all_state :\n",
    "        print(\"|{}〉: {:.2f}%\".format(i, statistic[i]/total_count*100))\n",
    "\n",
    "# log in\n",
    "apiToken = 'cff46de382c63d792161c08a2922a995180e0beb2cd3a0d14ff73b0e04ed760c0583204256c4968c8d7c28ed5a64447a8698cff9bbc5e6d0d1254d0115a0c588'\n",
    "loginQComputer(apiToken)\n",
    "\n",
    "# create a quantum circuit\n",
    "qCircuit = QuantumCircuit(3, 3)\n",
    "\n",
    "# show the quantum circuit\n",
    "qBits = [i for i in range(3)]\n",
    "cBits = [i for i in range(3)]\n",
    "qCircuit.measure(qBits, cBits)\n",
    "print(qCircuit)\n",
    "\n",
    "# test in Simulator\n",
    "\"\"\"qSimulator = AerSimulator()\n",
    "qCode = transpile(qCircuit, qSimulator)\n",
    "execution = execute(qCode, backend=qSimulator, shots=1000)\"\"\"\n",
    "\n",
    "# run in real quantum computer\n",
    "qComputer = getQComputerService()\n",
    "qCode = transpile(qCircuit, qComputer)\n",
    "execution = execute(qCode, backend=qComputer, shots=1000)\n",
    "\n",
    "# monitor the job status\n",
    "print()\n",
    "job_monitor(execution)\n",
    "\n",
    "# show the result\n",
    "result = execution.result()\n",
    "statistic = result.get_counts(qCircuit)\n",
    "showQState(statistic)"
   ]
  },
  {
   "cell_type": "code",
   "execution_count": null,
   "id": "30d31b63-ddc4-44eb-843f-2da7856408e2",
   "metadata": {},
   "outputs": [],
   "source": []
  }
 ],
 "metadata": {
  "kernelspec": {
   "display_name": "Qiskit v0.34.2 (ipykernel)",
   "language": "python",
   "name": "python3"
  },
  "language_info": {
   "codemirror_mode": {
    "name": "ipython",
    "version": 3
   },
   "file_extension": ".py",
   "mimetype": "text/x-python",
   "name": "python",
   "nbconvert_exporter": "python",
   "pygments_lexer": "ipython3",
   "version": "3.8.12"
  },
  "widgets": {
   "application/vnd.jupyter.widget-state+json": {
    "state": {},
    "version_major": 2,
    "version_minor": 0
   }
  }
 },
 "nbformat": 4,
 "nbformat_minor": 5
}
